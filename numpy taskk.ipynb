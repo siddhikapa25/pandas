{
 "cells": [
  {
   "cell_type": "markdown",
   "id": "0cc2c72d-92f5-445d-9d01-41f6b559b0ba",
   "metadata": {},
   "source": [
    "### 1\tCreate a 1D NumPy array of numbers from 0 to 9.\t\n"
   ]
  },
  {
   "cell_type": "code",
   "execution_count": 39,
   "id": "5babb911-f450-4f44-9c74-ce922a5955a2",
   "metadata": {},
   "outputs": [
    {
     "data": {
      "text/plain": [
       "[0, 1, 2, 3, 4, 5, 6, 7, 8, 9]"
      ]
     },
     "execution_count": 39,
     "metadata": {},
     "output_type": "execute_result"
    }
   ],
   "source": [
    "import numpy as np\n",
    "lst=[0,1,2,3,4,5,6,7,8,9]\n",
    "a1=np.array(lst)\n",
    "lst\n"
   ]
  },
  {
   "cell_type": "markdown",
   "id": "baaa24ca-475a-4e99-9e6a-d6bb6cd5d747",
   "metadata": {},
   "source": [
    "### 2 Create a 2D array of shape (3, 3) with all elements as 1.\t\n"
   ]
  },
  {
   "cell_type": "code",
   "execution_count": 40,
   "id": "fe7b7577-be47-4be4-b83a-b0170881076a",
   "metadata": {},
   "outputs": [
    {
     "data": {
      "text/plain": [
       "array([[1, 1, 1],\n",
       "       [1, 1, 1],\n",
       "       [1, 1, 1]], dtype=int64)"
      ]
     },
     "execution_count": 40,
     "metadata": {},
     "output_type": "execute_result"
    }
   ],
   "source": [
    "arr1=np.ones([3,3],dtype=np.int64,order='c')\n",
    "arr1"
   ]
  },
  {
   "cell_type": "markdown",
   "id": "4ffc25d7-4815-4858-8c6d-7012a80b999c",
   "metadata": {},
   "source": [
    "### 3 Generate a NumPy array of 15 random integers between 10 and 50.\t\n"
   ]
  },
  {
   "cell_type": "code",
   "execution_count": 41,
   "id": "67af25b5-3e26-43ca-bf6f-50746d5ecb62",
   "metadata": {},
   "outputs": [
    {
     "data": {
      "text/plain": [
       "array([12, 34, 54, 21, 32, 43, 54, 61, 28, 45, 46, 30, 50, 10, 49])"
      ]
     },
     "execution_count": 41,
     "metadata": {},
     "output_type": "execute_result"
    }
   ],
   "source": [
    "arr=np.array([12,34,54,21,32,43,54,61,28,45,46,30,50,10,49])\n",
    "arr"
   ]
  },
  {
   "cell_type": "markdown",
   "id": "9f596298-f4cc-40a3-bc98-9c928760e87e",
   "metadata": {},
   "source": [
    "### 4 Create an array of 5 evenly spaced numbers between 0 and 1 (inclusive).\t\n"
   ]
  },
  {
   "cell_type": "code",
   "execution_count": 54,
   "id": "33628aa7-a7ac-430d-b5ef-0d8a48d3706a",
   "metadata": {},
   "outputs": [
    {
     "name": "stdout",
     "output_type": "stream",
     "text": [
      "[0.   0.25 0.5  0.75 1.  ]\n"
     ]
    }
   ],
   "source": [
    "\n",
    "evenly_spaced_array=np.linspace(0,1,5)\n",
    "print(evenly_spaced_array)\n"
   ]
  },
  {
   "cell_type": "markdown",
   "id": "d727ca5d-6b65-4b09-ba13-f6509475a2bd",
   "metadata": {},
   "source": [
    "### 5 Create a 4x4 identity matrix using NumPy.\t\n"
   ]
  },
  {
   "cell_type": "code",
   "execution_count": 51,
   "id": "d48018c3-d66f-4da5-90a9-1310bb6820c8",
   "metadata": {},
   "outputs": [
    {
     "data": {
      "text/plain": [
       "array([[1., 0., 0., 0.],\n",
       "       [0., 1., 0., 0.],\n",
       "       [0., 0., 1., 0.],\n",
       "       [0., 0., 0., 1.]])"
      ]
     },
     "execution_count": 51,
     "metadata": {},
     "output_type": "execute_result"
    }
   ],
   "source": [
    "a1=np.eye(4)\n",
    "a1\n"
   ]
  },
  {
   "cell_type": "markdown",
   "id": "d55d7b6d-9b23-4da6-86a3-9a4d6d85a001",
   "metadata": {},
   "source": [
    "### 6 Create an array from the list [10, 20, 30, 40] and change the data type to float.\t\n"
   ]
  },
  {
   "cell_type": "code",
   "execution_count": 44,
   "id": "69d09878-9d8c-46a0-8b06-504c9c4dc70b",
   "metadata": {},
   "outputs": [
    {
     "data": {
      "text/plain": [
       "array([10., 20., 30., 40.])"
      ]
     },
     "execution_count": 44,
     "metadata": {},
     "output_type": "execute_result"
    }
   ],
   "source": [
    "l=[10,20,30,40]\n",
    "ar=np.array(l,dtype=np.float64)\n",
    "ar"
   ]
  },
  {
   "cell_type": "markdown",
   "id": "8c555700-d0f4-48be-ad1e-811b51236963",
   "metadata": {},
   "source": [
    " ### 7 Create a 3x3 array with values from 1 to 9, then extract the second column.\t\n"
   ]
  },
  {
   "cell_type": "code",
   "execution_count": 45,
   "id": "7c2c8ff4-987c-4174-af61-24bbc5616173",
   "metadata": {},
   "outputs": [
    {
     "data": {
      "text/plain": [
       "array([], shape=(0, 3), dtype=int32)"
      ]
     },
     "execution_count": 45,
     "metadata": {},
     "output_type": "execute_result"
    }
   ],
   "source": [
    "a1=np.array([1,2,3,4,5,6,7,8,9]).reshape(3,3)\n",
    "a1[3:3]"
   ]
  },
  {
   "cell_type": "markdown",
   "id": "0ad4907e-fc60-44a1-a14b-205a9158b836",
   "metadata": {},
   "source": [
    "### 8 Create a 1D array with 10 elements and reshape it into a 2x5 matrix.\t\n"
   ]
  },
  {
   "cell_type": "code",
   "execution_count": 46,
   "id": "4a48e9d9-fd54-4640-9217-4c9a0c346625",
   "metadata": {},
   "outputs": [
    {
     "data": {
      "text/plain": [
       "array([[ 1,  2,  3,  4,  5],\n",
       "       [ 6,  7,  8,  9, 10]])"
      ]
     },
     "execution_count": 46,
     "metadata": {},
     "output_type": "execute_result"
    }
   ],
   "source": [
    "a1=np.array([1,2,3,4,5,6,7,8,9,10]).reshape(2,5)\n",
    "a1"
   ]
  },
  {
   "cell_type": "markdown",
   "id": "62a26fce-5623-449f-aa55-302204c998b4",
   "metadata": {},
   "source": [
    "### 9 Create two 2x2 matrices and perform matrix multiplication.\t\n"
   ]
  },
  {
   "cell_type": "code",
   "execution_count": 47,
   "id": "0cd0e867-f0ee-4a47-8e23-e42b3b375680",
   "metadata": {},
   "outputs": [
    {
     "data": {
      "text/plain": [
       "array([[ 5, 12],\n",
       "       [21, 32]])"
      ]
     },
     "execution_count": 47,
     "metadata": {},
     "output_type": "execute_result"
    }
   ],
   "source": [
    "ary=np.array([1,2,3,4]).reshape(2,2)\n",
    "ary\n",
    "ary1=np.array([5,6,7,8]).reshape(2,2)\n",
    "ary1\n",
    "np.multiply(ary,ary1)"
   ]
  },
  {
   "cell_type": "markdown",
   "id": "57d785b1-9f02-4a99-96ba-62c58ed2c37e",
   "metadata": {},
   "source": [
    "### 10 Given the array arr = np.array([5, 12, 7, 18, 3]), replace all values greater than 10 with 100.\t\n"
   ]
  },
  {
   "cell_type": "code",
   "execution_count": 48,
   "id": "07785a8b-fc9a-49ee-b5b0-e3e5493b39ef",
   "metadata": {},
   "outputs": [
    {
     "data": {
      "text/plain": [
       "array([  5, 100,   7, 100,   3])"
      ]
     },
     "execution_count": 48,
     "metadata": {},
     "output_type": "execute_result"
    }
   ],
   "source": [
    "arr = np.array([5, 12, 7, 18, 3])\n",
    "arr[arr>10]=100\n",
    "arr"
   ]
  },
  {
   "cell_type": "code",
   "execution_count": null,
   "id": "2290863a-e2c5-4c96-a9f1-1488be120689",
   "metadata": {},
   "outputs": [],
   "source": []
  },
  {
   "cell_type": "code",
   "execution_count": null,
   "id": "2b4bc28c-554e-4880-9782-a20f1b416ec2",
   "metadata": {},
   "outputs": [],
   "source": []
  }
 ],
 "metadata": {
  "kernelspec": {
   "display_name": "Python 3 (ipykernel)",
   "language": "python",
   "name": "python3"
  },
  "language_info": {
   "codemirror_mode": {
    "name": "ipython",
    "version": 3
   },
   "file_extension": ".py",
   "mimetype": "text/x-python",
   "name": "python",
   "nbconvert_exporter": "python",
   "pygments_lexer": "ipython3",
   "version": "3.12.7"
  }
 },
 "nbformat": 4,
 "nbformat_minor": 5
}
